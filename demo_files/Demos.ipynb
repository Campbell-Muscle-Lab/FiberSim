{
 "cells": [
  {
   "cell_type": "code",
   "execution_count": null,
   "id": "b66bf372-2155-44f6-b44b-9528057d248b",
   "metadata": {},
   "outputs": [],
   "source": [
    "import sys\n",
    "import site\n",
    "import os\n",
    "from pathlib import Path\n",
    "\n",
    "# Ensure Python uses the FiberSim environment\n",
    "print(\"Python is using this environment:\", sys.executable)"
   ]
  },
  {
   "cell_type": "code",
   "execution_count": null,
   "id": "01b0d0f2-425d-4888-b9e1-2c181132bb1f",
   "metadata": {},
   "outputs": [],
   "source": [
    "# Get the directory of the Jupyter notebook\n",
    "notebook_dir = Path(__file__).parent if \"__file__\" in globals() else Path.cwd()\n",
    "\n",
    "# Search for FiberSim within common directory structures-the correct end folder is the second FiberPy\n",
    "potential_paths = [\n",
    "    notebook_dir / \"Code\" / \"FiberPy\" / \"FiberPy\",  # If running in a cloned repo\n",
    "    Path.home() / \"GitHub\" / \"FiberSim\" / \"Code\" / \"FiberPy\" / \"FiberPy\"  # If installed in a GitHub directory\n",
    "]\n",
    "\n",
    "fiberpy_path = None\n",
    "for path in potential_paths:\n",
    "    if path.exists():\n",
    "        fiberpy_path = path\n",
    "        break\n",
    "\n",
    "# If no valid path is found, ask the user\n",
    "if fiberpy_path is None:\n",
    "    fiberpy_path = input(\"Enter the path to the FiberPy directory: \")\n",
    "    fiberpy_path = Path(fiberpy_path).resolve()\n",
    "\n",
    "# Set the working directory\n",
    "os.chdir(fiberpy_path)\n",
    "print(f\"Working directory set to: {os.getcwd()}\")"
   ]
  },
  {
   "cell_type": "code",
   "execution_count": null,
   "id": "95268303",
   "metadata": {},
   "outputs": [],
   "source": [
    "# Import fiberpy functions\n",
    "from package.modules.characterize.characterize_model import characterize_model as characterize\n",
    "from package.modules.fitting.fit_model import fit_model \n",
    "from package.modules.sample.sample_model import sample_model \n",
    "from package.modules.visualization.render import generate_images\n",
    "\n",
    "print(\"FiberSim modules loaded successfully!\")"
   ]
  },
  {
   "cell_type": "code",
   "execution_count": null,
   "id": "334a70f7-dab5-4b3a-a568-0d8f3416eeed",
   "metadata": {},
   "outputs": [],
   "source": [
    "# Get the current working directory (FiberSim/Code/FiberPy/FiberPy/)\n",
    "current_dir = Path.cwd()\n",
    "\n",
    "# Navigate up 3 levels to reach FiberSim/\n",
    "fiber_sim_root = current_dir.parents[2]\n",
    "\n",
    "# Get the demo_files directory\n",
    "demo_files_dir = fiber_sim_root / \"demo_files\"\n",
    "\n",
    "print(f\"Demo files directory: {demo_files_dir}\")"
   ]
  },
  {
   "cell_type": "markdown",
   "id": "35d0f11b-ae21-4c08-9030-15a2510d5fdd",
   "metadata": {
    "heading_collapsed": true
   },
   "source": [
    "# Dictionaries and Definitions"
   ]
  },
  {
   "cell_type": "code",
   "execution_count": null,
   "id": "f9f93957-64df-4323-9904-2d197fefbabe",
   "metadata": {
    "hidden": true
   },
   "outputs": [],
   "source": [
    "# Define categories and their corresponding subdirectories\n",
    "demo_categories = {\n",
    "    \"single_trials\": [\"isometric_activation\", \"k_tr\"],\n",
    "    \"pca_curves\": [\"single_curve\", \"different_lengths\"],\n",
    "    \"length_tension\": [\"steady_state\"],\n",
    "    \"isotonic\": [\"force_velocity\"],\n",
    "    \"model_comparison\": [\"parameter_adjustments\"],\n",
    "    \"myofibrils\": [\"hs_with_sec\", \"multiple_hs_with_sec\", \"variable_hs\", \"mybpc\", \"sequential_hs\", \"spocs\"],\n",
    "    \"isotypes\": [\"k_tr\", \"twitch\", \"specific_molecules\", \"switching\"],\n",
    "    \"electrical_stimulation\":[\"twitch\",\" semi_fused_tetanus\", \"afterloads\"],\n",
    "    \"sampling\": [\"latin_hypercube\"],\n",
    "    \"length_changes\":[\"steps\"],\n",
    "    \"validation\":[\"force_balance\"],\n",
    "    \"afterload\":[\"afterload_twitch\"],\n",
    "    \"mybpc\":[\"load_shortening\"]\n",
    "}\n",
    "\n",
    "# Automatically build demos_dict using loops\n",
    "demos_dict = {\n",
    "    f\"{category}_{demo}\": demo_files_dir / category / demo / \"base\" / \"setup.json\"\n",
    "    for category, demos in demo_categories.items()\n",
    "    for demo in demos\n",
    "}\n",
    "\n",
    "# # Print to check structure\n",
    "print(demos_dict)\n",
    "# print(list(demos_dict.keys()))"
   ]
  },
  {
   "cell_type": "code",
   "execution_count": null,
   "id": "ed93be4d-643a-46fe-9e51-4f98efa3a47e",
   "metadata": {
    "hidden": true
   },
   "outputs": [],
   "source": [
    "# Function to run a demo\n",
    "def run_fibersim_demo(demo_name):\n",
    "    \"\"\"\n",
    "    Runs the appropriate FiberSim function based on the folder name.\n",
    "    \n",
    "    Parameters:\n",
    "    demo_name (str): The name of the demo to run, as defined in demos_dict.\n",
    "    \"\"\"\n",
    "    if demo_name not in demos_dict:\n",
    "        print(f\"Error: Demo '{demo_name}' not found.\")\n",
    "        return\n",
    "\n",
    "    demo_file = demos_dict[demo_name]\n",
    "\n",
    "    if not demo_file.exists():\n",
    "        print(f\"Error: Demo file '{demo_file}' not found.\")\n",
    "        return\n",
    "\n",
    "    # Extract the directory name right after `demo_base_dir`\n",
    "    parent_folder = demo_file.relative_to(demo_files_dir).parts[0]\n",
    "\n",
    "    # Determine which function to run based on folder structure\n",
    "    if parent_folder == \"fitting\": # this does not currently work\n",
    "        print(f\"Running fitting demo: {demo_name}\")\n",
    "        fit_model(str(demo_file))\n",
    "    elif parent_folder == \"sampling\":\n",
    "        print(f\"Running sampling demo: {demo_name}\")\n",
    "        sample_model(str(demo_file))\n",
    "    elif parent_folder == \"visualization\": # this does not currently work\n",
    "        print(f\"Running visualization demo: {demo_name}\")\n",
    "        generate_images(str(demo_file))\n",
    "    else:\n",
    "        print(f\"Running characterization demo: {demo_name}\")\n",
    "        characterize(str(demo_file))"
   ]
  },
  {
   "cell_type": "markdown",
   "id": "a18f02fb-4d0d-4c1b-9673-4c00fb571d2e",
   "metadata": {},
   "source": [
    "# Demos"
   ]
  },
  {
   "cell_type": "markdown",
   "id": "50a32ebf",
   "metadata": {
    "heading_collapsed": true
   },
   "source": [
    "## Single Trials"
   ]
  },
  {
   "cell_type": "markdown",
   "id": "9a4fc5f2",
   "metadata": {
    "heading_collapsed": true,
    "hidden": true
   },
   "source": [
    "### Isometric activation\n",
    "\n",
    "Runs a single simulation in which a half-sarcomere is held isometric and activated in a solution with a pCa of 4.5"
   ]
  },
  {
   "cell_type": "code",
   "execution_count": null,
   "id": "faa70fac",
   "metadata": {
    "hidden": true
   },
   "outputs": [],
   "source": [
    "run_fibersim_demo(\"single_trials_isometric_activation\")"
   ]
  },
  {
   "cell_type": "markdown",
   "id": "4e4252dc",
   "metadata": {
    "heading_collapsed": true,
    "hidden": true,
    "jp-MarkdownHeadingCollapsed": true
   },
   "source": [
    "### k_tr trial\n",
    "\n",
    "Runs a single simulation in which a half-sarcomere is activated in pCa 4.5 and then subjected to a k_tr maneuver"
   ]
  },
  {
   "cell_type": "code",
   "execution_count": null,
   "id": "8dcc8701",
   "metadata": {
    "hidden": true
   },
   "outputs": [],
   "source": [
    "run_fibersim_demo(\"single_trials_k_tr\")\n"
   ]
  },
  {
   "cell_type": "markdown",
   "id": "d7ab1118",
   "metadata": {
    "heading_collapsed": true,
    "jp-MarkdownHeadingCollapsed": true
   },
   "source": [
    "## pCa curves"
   ]
  },
  {
   "cell_type": "markdown",
   "id": "917a2ac6",
   "metadata": {
    "heading_collapsed": true,
    "hidden": true,
    "jp-MarkdownHeadingCollapsed": true
   },
   "source": [
    "### Single curve\n",
    "\n",
    "Builds on the single k_tr trial demo and runs simulations in which a half-sarcomere is subjected to a ktr maneuver at a range of pCa values"
   ]
  },
  {
   "cell_type": "code",
   "execution_count": null,
   "id": "c62471a8",
   "metadata": {
    "hidden": true
   },
   "outputs": [],
   "source": [
    "run_fibersim_demo(\"pca_curves_single_curve\")"
   ]
  },
  {
   "cell_type": "markdown",
   "id": "11c59d29",
   "metadata": {
    "heading_collapsed": true,
    "hidden": true,
    "jp-MarkdownHeadingCollapsed": true
   },
   "source": [
    "### Different lengths\n",
    "\n",
    "Builds on the single pCa curve trial and runs simulations in which a half-sarcomere is held at different lengths and subjected to a ktr maneuver at a range of pCa values"
   ]
  },
  {
   "cell_type": "code",
   "execution_count": null,
   "id": "fdf4368b",
   "metadata": {
    "hidden": true
   },
   "outputs": [],
   "source": [
    "run_fibersim_demo(\"pca_curves_different_lengths\")"
   ]
  },
  {
   "cell_type": "markdown",
   "id": "201cb338",
   "metadata": {
    "heading_collapsed": true,
    "jp-MarkdownHeadingCollapsed": true
   },
   "source": [
    "## Length-tension"
   ]
  },
  {
   "cell_type": "markdown",
   "id": "fa330625",
   "metadata": {
    "heading_collapsed": true,
    "hidden": true,
    "jp-MarkdownHeadingCollapsed": true
   },
   "source": [
    "### Steady-state\n",
    "\n",
    "+ Runs a set of simulations\n",
    "+ Each simulation calculates the properties of a half-sarcomere held at a different length\n",
    "+ In each simulation, the fiber starts relaxed but is then maximally activated\n",
    "+ Once the simulations have finished, the data are analyzed to determine the passive, active, and total length-tension curves"
   ]
  },
  {
   "cell_type": "code",
   "execution_count": null,
   "id": "96ed4b31",
   "metadata": {
    "hidden": true
   },
   "outputs": [],
   "source": [
    "run_fibersim_demo(\"length_tension_steady_state\")"
   ]
  },
  {
   "cell_type": "markdown",
   "id": "d9b3e3c4",
   "metadata": {
    "heading_collapsed": true,
    "jp-MarkdownHeadingCollapsed": true
   },
   "source": [
    "## Isotonic"
   ]
  },
  {
   "cell_type": "markdown",
   "id": "cf3f038e",
   "metadata": {
    "heading_collapsed": true,
    "hidden": true,
    "jp-MarkdownHeadingCollapsed": true
   },
   "source": [
    "### Force velocity\n",
    "\n",
    "+ Runs a simulation in which a half-sarcomere is activated in pCa 4.5 and held isometric\n",
    "  + This determines the isometric force\n",
    "+ The code then runs a set of simulations in which the half-sarcomere is activated in pCa 4.5 and, once force has reached steady-state, allowed to shorten against different fractions of the isometric force.\n",
    "+ Force-velocity and force-power curves are fitted to the simulation data."
   ]
  },
  {
   "cell_type": "code",
   "execution_count": null,
   "id": "e36271d4",
   "metadata": {
    "hidden": true
   },
   "outputs": [],
   "source": [
    "run_fibersim_demo(\"isotonic_force_velocity\")"
   ]
  },
  {
   "cell_type": "markdown",
   "id": "a2b3d2fb",
   "metadata": {
    "heading_collapsed": true,
    "jp-MarkdownHeadingCollapsed": true
   },
   "source": [
    "## Model comparison"
   ]
  },
  {
   "cell_type": "markdown",
   "id": "8356593c",
   "metadata": {
    "heading_collapsed": true,
    "hidden": true,
    "jp-MarkdownHeadingCollapsed": true
   },
   "source": [
    "### Parameter adjustments\n",
    "\n",
    "+ Builds on the single pCa curve demo and runs simulations in which a half-sarcomere is subjected to a ktr maneuver at a range of pCa values\n",
    "+ Uses a manipulations structure to create 4 models with different parameter values\n",
    "+ Plots summaries of the simulation"
   ]
  },
  {
   "cell_type": "code",
   "execution_count": null,
   "id": "dda626b0",
   "metadata": {
    "hidden": true
   },
   "outputs": [],
   "source": [
    "run_fibersim_demo(\"model_comparison_parameter_adjustments\")"
   ]
  },
  {
   "cell_type": "markdown",
   "id": "9b6e9253",
   "metadata": {
    "heading_collapsed": true,
    "jp-MarkdownHeadingCollapsed": true
   },
   "source": [
    "## Myofibrils"
   ]
  },
  {
   "cell_type": "markdown",
   "id": "cd6c1b37",
   "metadata": {
    "heading_collapsed": true,
    "hidden": true,
    "jp-MarkdownHeadingCollapsed": true
   },
   "source": [
    "### Half-sarcomere with series compliance\n",
    "\n",
    "Runs a single simulation in which a single half-sarcomere connected in series with a linear spring is activated and deactivated by step changes in the Ca2+ concentration"
   ]
  },
  {
   "cell_type": "code",
   "execution_count": null,
   "id": "b55529cb",
   "metadata": {
    "hidden": true
   },
   "outputs": [],
   "source": [
    "run_fibersim_demo(\"myofibrils_hs_with_sec\")"
   ]
  },
  {
   "cell_type": "markdown",
   "id": "e676a763",
   "metadata": {
    "heading_collapsed": true,
    "hidden": true,
    "jp-MarkdownHeadingCollapsed": true
   },
   "source": [
    "### Multiple half-sarcomere with series compliance\n",
    "Runs a single simulation in which a myofibril composed of 10 half-srcomeres connected in series with a linear spring is activated and deactivated by step changes in the Ca<sup>2+</sup> concentration"
   ]
  },
  {
   "cell_type": "code",
   "execution_count": null,
   "id": "a71d0cd1",
   "metadata": {
    "hidden": true
   },
   "outputs": [],
   "source": [
    "run_fibersim_demo(\"myofibrils_multiple_hs_with_sec\")"
   ]
  },
  {
   "cell_type": "markdown",
   "id": "645c2053",
   "metadata": {
    "heading_collapsed": true,
    "hidden": true,
    "jp-MarkdownHeadingCollapsed": true
   },
   "source": [
    "### Variable half-sarcomeres\n",
    "\n",
    "Builds on the multiple half-sarcomeres with series compliance demo but reduces the attachment rate for myosin in a half-sarcomere in the middle of the myofibril"
   ]
  },
  {
   "cell_type": "code",
   "execution_count": null,
   "id": "065b391e",
   "metadata": {
    "hidden": true
   },
   "outputs": [],
   "source": [
    "run_fibersim_demo(\"myofibrils_variable_hs\")"
   ]
  },
  {
   "cell_type": "markdown",
   "id": "bb378e5a",
   "metadata": {
    "heading_collapsed": true,
    "hidden": true,
    "jp-MarkdownHeadingCollapsed": true
   },
   "source": [
    "### mybpc ***"
   ]
  },
  {
   "cell_type": "code",
   "execution_count": null,
   "id": "7fcd9074",
   "metadata": {
    "hidden": true
   },
   "outputs": [],
   "source": [
    "run_fibersim_demo(\"myofibrils_mybpc\")"
   ]
  },
  {
   "cell_type": "markdown",
   "id": "56461f9f",
   "metadata": {
    "hidden": true,
    "jp-MarkdownHeadingCollapsed": true
   },
   "source": [
    "### sequential_hs ***"
   ]
  },
  {
   "cell_type": "code",
   "execution_count": null,
   "id": "d6ea5a5c",
   "metadata": {
    "hidden": true
   },
   "outputs": [],
   "source": [
    "run_fibersim_demo(\"myofibrils_sequential_hs\")"
   ]
  },
  {
   "cell_type": "markdown",
   "id": "6b395516",
   "metadata": {
    "hidden": true,
    "jp-MarkdownHeadingCollapsed": true
   },
   "source": [
    "### spocs ***"
   ]
  },
  {
   "cell_type": "code",
   "execution_count": null,
   "id": "4703086f",
   "metadata": {
    "hidden": true
   },
   "outputs": [],
   "source": [
    "run_fibersim_demo(\"myofibrils_spocs\")"
   ]
  },
  {
   "cell_type": "markdown",
   "id": "4b3b7522",
   "metadata": {
    "heading_collapsed": true,
    "jp-MarkdownHeadingCollapsed": true
   },
   "source": [
    "## Isotypes"
   ]
  },
  {
   "cell_type": "markdown",
   "id": "dd3e5a38",
   "metadata": {
    "hidden": true,
    "jp-MarkdownHeadingCollapsed": true
   },
   "source": [
    "### k_tr\n",
    "+ Simulates a half-sarcomere activated in solutions with 5 different pCa values and subject to a ktr maneuver.\n",
    "+ Plots a summary of the simulation.\n",
    "+ Plots the number of molecules in each state against time for each isotype."
   ]
  },
  {
   "cell_type": "code",
   "execution_count": null,
   "id": "c3e27833",
   "metadata": {
    "hidden": true
   },
   "outputs": [],
   "source": [
    "run_fibersim_demo(\"isotypes_k_tr\")"
   ]
  },
  {
   "cell_type": "markdown",
   "id": "77bc6b74",
   "metadata": {
    "hidden": true,
    "jp-MarkdownHeadingCollapsed": true
   },
   "source": [
    "### Twitch\n",
    "This demo simulates how changing the relative proportions of two isotypes of myosin influences a twitch contraction."
   ]
  },
  {
   "cell_type": "code",
   "execution_count": null,
   "id": "a9f7fb49",
   "metadata": {
    "hidden": true
   },
   "outputs": [],
   "source": [
    "run_fibersim_demo(\"isotypes_twitch\")"
   ]
  },
  {
   "cell_type": "markdown",
   "id": "ca5ff6bf",
   "metadata": {
    "hidden": true,
    "jp-MarkdownHeadingCollapsed": true
   },
   "source": [
    "### Specific molecules\n",
    "+ Simulates a half-sarcomere undergoing an isometric contraction\n",
    "+ There are two isotypes of myosin. The kinetics for the second isotype are slower than that of the first isotype\n",
    "+ The first head in every myosin dimer is isotype 1. The second head in every dimer is isotype 2.\n",
    "+ There are also two isotypes of MyBP-C. The first isotype attaches to actin. The second isotype can transition to a state where it stabilizes myosin heads.\n",
    "+ There are 27 MyBP-C molecules arranged in 9 stripes of 3 molecules. All of the molecules within a stripe have the same isotype but the isotype alternates between stripes.\n",
    "+ You can make the simulations smoother by increasing the m_n parameter in the setup file.\n",
    "+ Status files are written for every 10th time-step. You can increase the time-resolution of the isotype plots by changing the time_steps parameter in the options file. For example, changing the string to 1:3:500 would save the status at every 3 time-step."
   ]
  },
  {
   "cell_type": "code",
   "execution_count": null,
   "id": "1f88ef24",
   "metadata": {
    "hidden": true
   },
   "outputs": [],
   "source": [
    "run_fibersim_demo(\"isotypes_specific_molecules\")"
   ]
  },
  {
   "cell_type": "markdown",
   "id": "0f770027",
   "metadata": {
    "hidden": true
   },
   "source": [
    "### Switching ***"
   ]
  },
  {
   "cell_type": "code",
   "execution_count": null,
   "id": "8cc045a8",
   "metadata": {
    "hidden": true
   },
   "outputs": [],
   "source": [
    "run_fibersim_demo(\"isotypes_switching\")"
   ]
  },
  {
   "cell_type": "markdown",
   "id": "b1ca330b",
   "metadata": {
    "heading_collapsed": true,
    "jp-MarkdownHeadingCollapsed": true
   },
   "source": [
    "## Electrical stimulation"
   ]
  },
  {
   "cell_type": "markdown",
   "id": "d9bd5e88",
   "metadata": {
    "heading_collapsed": true,
    "hidden": true,
    "jp-MarkdownHeadingCollapsed": true
   },
   "source": [
    "### Twitch\n",
    "Runs a single simulation in which a half-sarcomere is held isometric and activated by a Ca<sup>2+</sup> transient"
   ]
  },
  {
   "cell_type": "code",
   "execution_count": null,
   "id": "a67e3954",
   "metadata": {
    "hidden": true
   },
   "outputs": [],
   "source": [
    "run_fibersim_demo(\"electrical_stimulation_twitch\")"
   ]
  },
  {
   "cell_type": "markdown",
   "id": "f376fe7a",
   "metadata": {
    "heading_collapsed": true,
    "hidden": true,
    "jp-MarkdownHeadingCollapsed": true
   },
   "source": [
    "### Semi-fused tetanus\n",
    "Runs a single simulation in which a half-sarcomere is held isometric and activated by a sequenece of Ca<sup>2+</sup> transients."
   ]
  },
  {
   "cell_type": "code",
   "execution_count": null,
   "id": "eaaf055c",
   "metadata": {
    "hidden": true
   },
   "outputs": [],
   "source": [
    "run_fibersim_demo(\"electrical_stimulation_ semi_fused_tetanus\")"
   ]
  },
  {
   "cell_type": "markdown",
   "id": "1556d2c9",
   "metadata": {
    "heading_collapsed": true,
    "hidden": true,
    "jp-MarkdownHeadingCollapsed": true
   },
   "source": [
    "### Afterloads\n",
    "Runs a set of simulations in which a half-sarcomere is activated by a Ca<sup>2+</sup> transient and allowed to shorten against a range of afterloads."
   ]
  },
  {
   "cell_type": "code",
   "execution_count": null,
   "id": "5a0ad14c",
   "metadata": {
    "hidden": true
   },
   "outputs": [],
   "source": [
    "run_fibersim_demo(\"electrical_stimulation_afterloads\")"
   ]
  },
  {
   "cell_type": "markdown",
   "id": "1c026815",
   "metadata": {
    "heading_collapsed": true,
    "jp-MarkdownHeadingCollapsed": true
   },
   "source": [
    "## Length changes"
   ]
  },
  {
   "cell_type": "markdown",
   "id": "d5e95e4a",
   "metadata": {
    "hidden": true,
    "jp-MarkdownHeadingCollapsed": true
   },
   "source": [
    "### Steps\n",
    "+ Runs a set of simulations with step stretches of different sizes imposed at different activation levels"
   ]
  },
  {
   "cell_type": "code",
   "execution_count": null,
   "id": "afad9b28",
   "metadata": {
    "hidden": true
   },
   "outputs": [],
   "source": [
    "run_fibersim_demo(\"length_changes_steps\")"
   ]
  },
  {
   "cell_type": "markdown",
   "id": "4cde8e2c",
   "metadata": {
    "heading_collapsed": true,
    "jp-MarkdownHeadingCollapsed": true
   },
   "source": [
    "## Sampling"
   ]
  },
  {
   "cell_type": "markdown",
   "id": "06954171",
   "metadata": {
    "hidden": true
   },
   "source": [
    "### Latin hypercube\n",
    "+ Samples a base model by running 30 free-form simulations, each of which is based on a different model and simulates a protocol with a slightly different Ca2+ transient\n",
    "+ After the simulations are complete, calls a custom-written Python function that\n",
    "  + Deduces summary statistics for each simulation\n",
    "  + Creates figures summarizing the results"
   ]
  },
  {
   "cell_type": "code",
   "execution_count": null,
   "id": "fcf78794",
   "metadata": {
    "hidden": true
   },
   "outputs": [],
   "source": [
    "run_fibersim_demo(\"sampling_latin_hypercube\")"
   ]
  },
  {
   "cell_type": "markdown",
   "id": "aa1ce15e",
   "metadata": {
    "heading_collapsed": true,
    "jp-MarkdownHeadingCollapsed": true
   },
   "source": [
    "## Validation"
   ]
  },
  {
   "cell_type": "markdown",
   "id": "90f98cc3",
   "metadata": {
    "hidden": true,
    "jp-MarkdownHeadingCollapsed": true
   },
   "source": [
    "### Force-balance\n",
    "\n",
    "+runs simulations for 6 fixed-end activations where the thick and thin filaments have different stiffnesses\n",
    "+saves a status file for the last time-point for each simulation\n",
    "+calls a demo-specific Python file that\n",
    "  +loops through the simulations\n",
    "  +calculates the unbalanced force at each node\n",
    "  +saves a summary of the results for each simulation as a figure"
   ]
  },
  {
   "cell_type": "code",
   "execution_count": null,
   "id": "11e7e986",
   "metadata": {
    "hidden": true
   },
   "outputs": [],
   "source": [
    "run_fibersim_demo(\"validation_force_balance\")"
   ]
  }
 ],
 "metadata": {
  "kernelspec": {
   "display_name": "Python 3 (ipykernel)",
   "language": "python",
   "name": "python3"
  },
  "language_info": {
   "codemirror_mode": {
    "name": "ipython",
    "version": 3
   },
   "file_extension": ".py",
   "mimetype": "text/x-python",
   "name": "python",
   "nbconvert_exporter": "python",
   "pygments_lexer": "ipython3",
   "version": "3.11.11"
  }
 },
 "nbformat": 4,
 "nbformat_minor": 5
}
